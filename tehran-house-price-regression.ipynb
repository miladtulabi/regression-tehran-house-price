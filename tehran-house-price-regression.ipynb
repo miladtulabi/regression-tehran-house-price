{
 "cells": [
  {
   "cell_type": "code",
   "execution_count": 1,
   "id": "32df31be",
   "metadata": {
    "_cell_guid": "b1076dfc-b9ad-4769-8c92-a6c4dae69d19",
    "_uuid": "",
    "execution": {
     "iopub.execute_input": "2022-08-05T11:12:17.854698Z",
     "iopub.status.busy": "2022-08-05T11:12:17.853404Z",
     "iopub.status.idle": "2022-08-05T11:12:19.214505Z",
     "shell.execute_reply": "2022-08-05T11:12:19.213268Z"
    },
    "papermill": {
     "duration": 1.371723,
     "end_time": "2022-08-05T11:12:19.217711",
     "exception": false,
     "start_time": "2022-08-05T11:12:17.845988",
     "status": "completed"
    },
    "tags": []
   },
   "outputs": [],
   "source": [
    "import numpy as np # linear algebra\n",
    "import pandas as pd # data processing, CSV file I/O (e.g. pd.read_csv)\n",
    "from sklearn.model_selection import train_test_split\n",
    "from sklearn.impute import SimpleImputer\n",
    "from sklearn.preprocessing import OneHotEncoder\n",
    "from sklearn import linear_model\n",
    "from sklearn.preprocessing import PolynomialFeatures\n",
    "import sklearn\n",
    "from scipy import stats\n",
    "import matplotlib.pyplot as plt"
   ]
  },
  {
   "cell_type": "markdown",
   "id": "ff6cb102",
   "metadata": {
    "papermill": {
     "duration": 0.003857,
     "end_time": "2022-08-05T11:12:19.226477",
     "exception": false,
     "start_time": "2022-08-05T11:12:19.222620",
     "status": "completed"
    },
    "tags": []
   },
   "source": [
    "# House Price Prediction\n",
    "\n",
    "This code includes house price prediction from a dataset in kaggle"
   ]
  },
  {
   "cell_type": "code",
   "execution_count": 2,
   "id": "a0b4d5cb",
   "metadata": {
    "execution": {
     "iopub.execute_input": "2022-08-05T11:12:19.237008Z",
     "iopub.status.busy": "2022-08-05T11:12:19.236587Z",
     "iopub.status.idle": "2022-08-05T11:12:19.332949Z",
     "shell.execute_reply": "2022-08-05T11:12:19.331786Z"
    },
    "papermill": {
     "duration": 0.106178,
     "end_time": "2022-08-05T11:12:19.336858",
     "exception": false,
     "start_time": "2022-08-05T11:12:19.230680",
     "status": "completed"
    },
    "tags": []
   },
   "outputs": [
    {
     "data": {
      "text/html": [
       "<div>\n",
       "<style scoped>\n",
       "    .dataframe tbody tr th:only-of-type {\n",
       "        vertical-align: middle;\n",
       "    }\n",
       "\n",
       "    .dataframe tbody tr th {\n",
       "        vertical-align: top;\n",
       "    }\n",
       "\n",
       "    .dataframe thead th {\n",
       "        text-align: right;\n",
       "    }\n",
       "</style>\n",
       "<table border=\"1\" class=\"dataframe\">\n",
       "  <thead>\n",
       "    <tr style=\"text-align: right;\">\n",
       "      <th></th>\n",
       "      <th>Area</th>\n",
       "      <th>Room</th>\n",
       "      <th>Parking</th>\n",
       "      <th>Warehouse</th>\n",
       "      <th>Elevator</th>\n",
       "      <th>Price</th>\n",
       "      <th>Price(USD)</th>\n",
       "    </tr>\n",
       "  </thead>\n",
       "  <tbody>\n",
       "    <tr>\n",
       "      <th>count</th>\n",
       "      <td>3068.000000</td>\n",
       "      <td>3068.000000</td>\n",
       "      <td>3068.000000</td>\n",
       "      <td>3068.0</td>\n",
       "      <td>3068.000000</td>\n",
       "      <td>3.068000e+03</td>\n",
       "      <td>3068.000000</td>\n",
       "    </tr>\n",
       "    <tr>\n",
       "      <th>mean</th>\n",
       "      <td>102.539439</td>\n",
       "      <td>2.059974</td>\n",
       "      <td>0.891786</td>\n",
       "      <td>1.0</td>\n",
       "      <td>0.815189</td>\n",
       "      <td>4.599520e+09</td>\n",
       "      <td>153317.328364</td>\n",
       "    </tr>\n",
       "    <tr>\n",
       "      <th>std</th>\n",
       "      <td>56.528724</td>\n",
       "      <td>0.676342</td>\n",
       "      <td>0.310701</td>\n",
       "      <td>0.0</td>\n",
       "      <td>0.388207</td>\n",
       "      <td>4.689708e+09</td>\n",
       "      <td>156323.607191</td>\n",
       "    </tr>\n",
       "    <tr>\n",
       "      <th>min</th>\n",
       "      <td>30.000000</td>\n",
       "      <td>0.000000</td>\n",
       "      <td>0.000000</td>\n",
       "      <td>1.0</td>\n",
       "      <td>0.000000</td>\n",
       "      <td>5.500000e+07</td>\n",
       "      <td>1833.330000</td>\n",
       "    </tr>\n",
       "    <tr>\n",
       "      <th>25%</th>\n",
       "      <td>70.000000</td>\n",
       "      <td>2.000000</td>\n",
       "      <td>1.000000</td>\n",
       "      <td>1.0</td>\n",
       "      <td>1.000000</td>\n",
       "      <td>1.579875e+09</td>\n",
       "      <td>52662.502500</td>\n",
       "    </tr>\n",
       "    <tr>\n",
       "      <th>50%</th>\n",
       "      <td>90.000000</td>\n",
       "      <td>2.000000</td>\n",
       "      <td>1.000000</td>\n",
       "      <td>1.0</td>\n",
       "      <td>1.000000</td>\n",
       "      <td>2.999500e+09</td>\n",
       "      <td>99983.335000</td>\n",
       "    </tr>\n",
       "    <tr>\n",
       "      <th>75%</th>\n",
       "      <td>120.000000</td>\n",
       "      <td>2.000000</td>\n",
       "      <td>1.000000</td>\n",
       "      <td>1.0</td>\n",
       "      <td>1.000000</td>\n",
       "      <td>6.000000e+09</td>\n",
       "      <td>200000.000000</td>\n",
       "    </tr>\n",
       "    <tr>\n",
       "      <th>max</th>\n",
       "      <td>1000.000000</td>\n",
       "      <td>4.000000</td>\n",
       "      <td>1.000000</td>\n",
       "      <td>1.0</td>\n",
       "      <td>1.000000</td>\n",
       "      <td>2.970000e+10</td>\n",
       "      <td>990000.000000</td>\n",
       "    </tr>\n",
       "  </tbody>\n",
       "</table>\n",
       "</div>"
      ],
      "text/plain": [
       "              Area         Room      Parking  Warehouse     Elevator  \\\n",
       "count  3068.000000  3068.000000  3068.000000     3068.0  3068.000000   \n",
       "mean    102.539439     2.059974     0.891786        1.0     0.815189   \n",
       "std      56.528724     0.676342     0.310701        0.0     0.388207   \n",
       "min      30.000000     0.000000     0.000000        1.0     0.000000   \n",
       "25%      70.000000     2.000000     1.000000        1.0     1.000000   \n",
       "50%      90.000000     2.000000     1.000000        1.0     1.000000   \n",
       "75%     120.000000     2.000000     1.000000        1.0     1.000000   \n",
       "max    1000.000000     4.000000     1.000000        1.0     1.000000   \n",
       "\n",
       "              Price     Price(USD)  \n",
       "count  3.068000e+03    3068.000000  \n",
       "mean   4.599520e+09  153317.328364  \n",
       "std    4.689708e+09  156323.607191  \n",
       "min    5.500000e+07    1833.330000  \n",
       "25%    1.579875e+09   52662.502500  \n",
       "50%    2.999500e+09   99983.335000  \n",
       "75%    6.000000e+09  200000.000000  \n",
       "max    2.970000e+10  990000.000000  "
      ]
     },
     "execution_count": 2,
     "metadata": {},
     "output_type": "execute_result"
    }
   ],
   "source": [
    "# reading the csv file\n",
    "house_price = pd.read_csv('../input/house-price-tehran-iran/housePrice.csv')\n",
    "\n",
    "# Dropping the nan values\n",
    "house_price = house_price.dropna()\n",
    "\n",
    "# renaming price(usd) to something useful\n",
    "#house_price.rename({'Price(USD)':\"Price_usd\"}, axis='columns')\n",
    "\n",
    "# finding categorial columns\n",
    "#house_price.dtypes\n",
    "\n",
    "# it seems that the first column (area) is an object and it shouldn't be\n",
    "# so we have to change the type to int\n",
    "# But There is a comma in some of the area column values and it needs to be removed\n",
    "house_price['Area'] = house_price['Area'].str.replace(\",\",\"\")\n",
    "house_price['Area'] = house_price['Area'].astype(int, errors = 'raise')\n",
    "\n",
    "# the boolean columns need to be converted to int\n",
    "house_price['Parking'] = house_price['Parking'].astype(int, errors = 'raise')\n",
    "house_price['Warehouse'] = house_price['Warehouse'].astype(int, errors = 'raise')\n",
    "house_price['Elevator'] = house_price['Elevator'].astype(int, errors = 'raise')\n",
    "#house_price.dtypes\n",
    "\n",
    "# the address column can be converted using one hot or ordinal encoding\n",
    "# but there is no order in address so one hot encodeing sounds reasonable\n",
    "# But it seems there are 193 different values in this coulmn and it makes it difficult\n",
    "# to predict (due to shortage of data), so dropping the address column seems more reasonable\n",
    "Address = house_price.select_dtypes('object')\n",
    "house_price_ = house_price.select_dtypes(exclude=['object'])\n",
    "house_price__ = house_price.select_dtypes(exclude=['object'])\n",
    "\n",
    "# mean and standard diviation of area seems to high\n",
    "# and there are outliers in the dataset that have to be removed using z-score\n",
    "house_price_ = house_price_[(np.abs(stats.zscore(house_price_)) < 3).all(axis=1)]\n",
    "\n",
    "house_price_.describe()"
   ]
  },
  {
   "cell_type": "code",
   "execution_count": 3,
   "id": "a4c3b329",
   "metadata": {
    "execution": {
     "iopub.execute_input": "2022-08-05T11:12:19.347948Z",
     "iopub.status.busy": "2022-08-05T11:12:19.347504Z",
     "iopub.status.idle": "2022-08-05T11:12:19.593426Z",
     "shell.execute_reply": "2022-08-05T11:12:19.592267Z"
    },
    "papermill": {
     "duration": 0.254306,
     "end_time": "2022-08-05T11:12:19.596178",
     "exception": false,
     "start_time": "2022-08-05T11:12:19.341872",
     "status": "completed"
    },
    "tags": []
   },
   "outputs": [
    {
     "data": {
      "image/png": "[encoded data removed]",
      "text/plain": [
       "<Figure size 432x288 with 1 Axes>"
      ]
     },
     "metadata": {
      "needs_background": "light"
     },
     "output_type": "display_data"
    }
   ],
   "source": [
    "# Defining feature and target value\n",
    "X_simple = house_price_[['Area']]\n",
    "\n",
    "# it seems warehouse has zero std, so we can ignore that feature\n",
    "# also, parking and elevator features seems to have a near 1 mean, so it might be \n",
    "# a good idea to ignore them, too\n",
    "X_all = house_price_[['Area', 'Room']]\n",
    "Y = house_price_.Price\n",
    "\n",
    "# Defining train and test\n",
    "x_train_s,x_test_s,y_train_s,y_test_s=train_test_split(X_simple,Y, test_size = 0.2)\n",
    "x_train_a,x_test_a,y_train_a,y_test_a=train_test_split(X_all,Y, test_size = 0.2)\n",
    "\n",
    "plt.scatter(x_train_s, y_train_s, c='b')\n",
    "plt.xlabel(\"Area\")\n",
    "plt.ylabel(\"Price\")\n",
    "plt.show()"
   ]
  },
  {
   "cell_type": "markdown",
   "id": "cb00f978",
   "metadata": {
    "papermill": {
     "duration": 0.004196,
     "end_time": "2022-08-05T11:12:19.605077",
     "exception": false,
     "start_time": "2022-08-05T11:12:19.600881",
     "status": "completed"
    },
    "tags": []
   },
   "source": [
    "# Simple linear regression using area data"
   ]
  },
  {
   "cell_type": "code",
   "execution_count": 4,
   "id": "631f3fd8",
   "metadata": {
    "execution": {
     "iopub.execute_input": "2022-08-05T11:12:19.616071Z",
     "iopub.status.busy": "2022-08-05T11:12:19.615652Z",
     "iopub.status.idle": "2022-08-05T11:12:19.642507Z",
     "shell.execute_reply": "2022-08-05T11:12:19.641041Z"
    },
    "papermill": {
     "duration": 0.035681,
     "end_time": "2022-08-05T11:12:19.645306",
     "exception": false,
     "start_time": "2022-08-05T11:12:19.609625",
     "status": "completed"
    },
    "tags": []
   },
   "outputs": [
    {
     "name": "stdout",
     "output_type": "stream",
     "text": [
      "0.32709739045334485\n"
     ]
    }
   ],
   "source": [
    "# Fit using linear regression\n",
    "my_model_lr = linear_model.LinearRegression()\n",
    "my_model_lr.fit(x_train_s,y_train_s)\n",
    "\n",
    "# calculating y hat using our linear model parameters\n",
    "#y_hat_s = my_model_lr.coef_ * x_train_s + my_model_lr.intercept_\n",
    "\n",
    "# predict y hat for test set\n",
    "y_prediction_lr = my_model_lr.predict(x_test_s)\n",
    "\n",
    "# printing r2 score to see how good our model perform\n",
    "print(sklearn.metrics.r2_score(y_test_s, y_prediction_lr))"
   ]
  },
  {
   "cell_type": "markdown",
   "id": "56583daa",
   "metadata": {
    "papermill": {
     "duration": 0.004394,
     "end_time": "2022-08-05T11:12:19.654470",
     "exception": false,
     "start_time": "2022-08-05T11:12:19.650076",
     "status": "completed"
    },
    "tags": []
   },
   "source": [
    "our linear simple model, seems to have a very low r2 score\n",
    "maybe we have to try more feature or a non-linear model"
   ]
  },
  {
   "cell_type": "markdown",
   "id": "4e27dfb7",
   "metadata": {
    "papermill": {
     "duration": 0.004359,
     "end_time": "2022-08-05T11:12:19.663822",
     "exception": false,
     "start_time": "2022-08-05T11:12:19.659463",
     "status": "completed"
    },
    "tags": []
   },
   "source": [
    "# Multi-parameter linear model"
   ]
  },
  {
   "cell_type": "code",
   "execution_count": 5,
   "id": "d891b809",
   "metadata": {
    "execution": {
     "iopub.execute_input": "2022-08-05T11:12:19.674868Z",
     "iopub.status.busy": "2022-08-05T11:12:19.674368Z",
     "iopub.status.idle": "2022-08-05T11:12:19.690319Z",
     "shell.execute_reply": "2022-08-05T11:12:19.688684Z"
    },
    "papermill": {
     "duration": 0.024368,
     "end_time": "2022-08-05T11:12:19.692892",
     "exception": false,
     "start_time": "2022-08-05T11:12:19.668524",
     "status": "completed"
    },
    "tags": []
   },
   "outputs": [
    {
     "name": "stdout",
     "output_type": "stream",
     "text": [
      "0.4518212882027216\n",
      "[3.19869856e+07 2.41460620e+09] -3660948882.210291\n"
     ]
    }
   ],
   "source": [
    "# Fit using linear regression\n",
    "my_model_mlr = linear_model.LinearRegression()\n",
    "my_model_mlr.fit(x_train_a,y_train_a)\n",
    "\n",
    "# calculating y hat using our linear model parameters\n",
    "#y_hat_s = my_model_lr.coef_ * x_train_s + my_model_lr.intercept_\n",
    "\n",
    "# predict y hat for test set\n",
    "y_prediction_mlr = my_model_mlr.predict(x_test_a)\n",
    "\n",
    "# printing r2 score to see how good our model perform\n",
    "print(sklearn.metrics.r2_score(y_test_a, y_prediction_mlr))\n",
    "print(my_model_mlr.coef_,my_model_mlr.intercept_)"
   ]
  },
  {
   "cell_type": "markdown",
   "id": "909c71e3",
   "metadata": {
    "papermill": {
     "duration": 0.004467,
     "end_time": "2022-08-05T11:12:19.702186",
     "exception": false,
     "start_time": "2022-08-05T11:12:19.697719",
     "status": "completed"
    },
    "tags": []
   },
   "source": [
    "it seems that our multi-feature model has a poor score. it might be a good idea to use a more complex model.\n",
    "\n",
    "# Multi-feature polynomial regression"
   ]
  },
  {
   "cell_type": "code",
   "execution_count": 6,
   "id": "01ee878b",
   "metadata": {
    "execution": {
     "iopub.execute_input": "2022-08-05T11:12:19.713962Z",
     "iopub.status.busy": "2022-08-05T11:12:19.713505Z",
     "iopub.status.idle": "2022-08-05T11:12:19.731390Z",
     "shell.execute_reply": "2022-08-05T11:12:19.729997Z"
    },
    "papermill": {
     "duration": 0.026807,
     "end_time": "2022-08-05T11:12:19.733939",
     "exception": false,
     "start_time": "2022-08-05T11:12:19.707132",
     "status": "completed"
    },
    "tags": []
   },
   "outputs": [
    {
     "name": "stdout",
     "output_type": "stream",
     "text": [
      "0.6470011817761634\n",
      "[-5.44091097e+07 -7.23700609e+09 -2.15056886e+05  1.21022953e+08\n",
      "  5.31120408e+08  2.29885692e+02 -7.22798205e+04 -9.59431458e+06\n",
      " -1.56772443e+08] 6319134194.813423\n"
     ]
    }
   ],
   "source": [
    "# defining polynomial with x^2 and x^3\n",
    "polynomial = PolynomialFeatures(degree=3, include_bias=False)\n",
    "feat_poly_train = polynomial.fit_transform(x_train_a)\n",
    "feat_poly_test = polynomial.fit_transform(x_test_a)\n",
    "\n",
    "# using linear regression to fit the data\n",
    "regression = linear_model.LinearRegression()\n",
    "my_model_plr = regression.fit(feat_poly_train, y_train_a)\n",
    "\n",
    "# predict y hat for test set\n",
    "y_prediction_plr = my_model_plr.predict(feat_poly_test)\n",
    "\n",
    "# printing r2 score to see how good our model perform\n",
    "print(sklearn.metrics.r2_score(y_test_a, y_prediction_plr))\n",
    "print(my_model_plr.coef_,my_model_plr.intercept_)"
   ]
  },
  {
   "cell_type": "markdown",
   "id": "f3b9d46a",
   "metadata": {
    "papermill": {
     "duration": 0.004876,
     "end_time": "2022-08-05T11:12:19.743742",
     "exception": false,
     "start_time": "2022-08-05T11:12:19.738866",
     "status": "completed"
    },
    "tags": []
   },
   "source": [
    "It seems better!\n",
    "But let's try someting else.\n",
    "in previous stages, we had ignore \"address\" feature, due to shortage of data and having lots of features.\n",
    "at this point, it seems the right path is using that omitted feature!"
   ]
  },
  {
   "cell_type": "code",
   "execution_count": 7,
   "id": "d3dcf582",
   "metadata": {
    "execution": {
     "iopub.execute_input": "2022-08-05T11:12:19.755868Z",
     "iopub.status.busy": "2022-08-05T11:12:19.755298Z",
     "iopub.status.idle": "2022-08-05T11:12:19.761286Z",
     "shell.execute_reply": "2022-08-05T11:12:19.759752Z"
    },
    "papermill": {
     "duration": 0.015206,
     "end_time": "2022-08-05T11:12:19.763761",
     "exception": false,
     "start_time": "2022-08-05T11:12:19.748555",
     "status": "completed"
    },
    "tags": []
   },
   "outputs": [],
   "source": [
    "# one-hot encoding the categorial feature: address\n",
    "#oh_encoded_address = pd.get_dummies(Address)\n",
    "\n",
    "# concating oh encoded address to datasets\n",
    "#house_price_ad = pd.concat([house_price__, oh_encoded_address], axis=1)\n",
    "\n",
    "# defining features and target value\n",
    "#x_ad = house_price_ad.loc[:, ~house_price_ad.columns.isin(['Price', 'Price(USD)'])]\n",
    "#y_ad = house_price_ad.Price\n",
    "\n",
    "#house_price_ad.describe()"
   ]
  },
  {
   "cell_type": "code",
   "execution_count": 8,
   "id": "f3a221e3",
   "metadata": {
    "execution": {
     "iopub.execute_input": "2022-08-05T11:12:19.776185Z",
     "iopub.status.busy": "2022-08-05T11:12:19.775605Z",
     "iopub.status.idle": "2022-08-05T11:12:19.781996Z",
     "shell.execute_reply": "2022-08-05T11:12:19.780685Z"
    },
    "papermill": {
     "duration": 0.01565,
     "end_time": "2022-08-05T11:12:19.784435",
     "exception": false,
     "start_time": "2022-08-05T11:12:19.768785",
     "status": "completed"
    },
    "tags": []
   },
   "outputs": [],
   "source": [
    "# splitting train/test\n",
    "#x_train_ad,x_test_ad,y_train_ad,y_test_ad=train_test_split(x_ad,y_ad, test_size = 0.2)\n",
    "\n",
    "# defining polynomial with x^2 and x^3\n",
    "#polynomial_ad = PolynomialFeatures(degree=3, include_bias=False)\n",
    "#feat_poly_train_ad = polynomial_ad.fit_transform(x_train_ad)\n",
    "#feat_poly_test_ad = polynomial_ad.fit_transform(x_test_ad)\n",
    "\n",
    "# using linear regression to fit the data\n",
    "#regression_ad = linear_model.LinearRegression()\n",
    "#my_model_plr_ad = regression_ad.fit(feat_poly_train_ad, y_train_ad)\n",
    "\n",
    "# predict y hat for test set\n",
    "#y_prediction_plr_ad = my_model_plr_ad.predict(feat_poly_test_ad)\n",
    "\n",
    "# printing r2 score to see how good our model perform\n",
    "#print(sklearn.metrics.r2_score(y_test_ad, y_prediction_plr_ad))"
   ]
  },
  {
   "cell_type": "code",
   "execution_count": null,
   "id": "8f590017",
   "metadata": {
    "papermill": {
     "duration": 0.004506,
     "end_time": "2022-08-05T11:12:19.793911",
     "exception": false,
     "start_time": "2022-08-05T11:12:19.789405",
     "status": "completed"
    },
    "tags": []
   },
   "outputs": [],
   "source": []
  }
 ],
 "metadata": {
  "kernelspec": {
   "display_name": "Python 3",
   "language": "python",
   "name": "python3"
  },
  "language_info": {
   "codemirror_mode": {
    "name": "ipython",
    "version": 3
   },
   "file_extension": ".py",
   "mimetype": "text/x-python",
   "name": "python",
   "nbconvert_exporter": "python",
   "pygments_lexer": "ipython3",
   "version": "3.7.12"
  },
  "papermill": {
   "default_parameters": {},
   "duration": 13.49565,
   "end_time": "2022-08-05T11:12:20.624288",
   "environment_variables": {},
   "exception": null,
   "input_path": "__notebook__.ipynb",
   "output_path": "__notebook__.ipynb",
   "parameters": {},
   "start_time": "2022-08-05T11:12:07.128638",
   "version": "2.3.4"
  }
 },
 "nbformat": 4,
 "nbformat_minor": 5
}
